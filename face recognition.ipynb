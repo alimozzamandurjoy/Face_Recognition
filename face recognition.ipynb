{
 "cells": [
  {
   "cell_type": "markdown",
   "id": "6dab4d6e",
   "metadata": {},
   "source": [
    "### Installing dependencies "
   ]
  },
  {
   "cell_type": "code",
   "execution_count": 1,
   "id": "2be74bab",
   "metadata": {},
   "outputs": [],
   "source": [
    "import numpy as np\n",
    "import cv2\n",
    "import face_recognition\n",
    "import os"
   ]
  },
  {
   "cell_type": "markdown",
   "id": "b35f2a07",
   "metadata": {},
   "source": [
    "### Reading data set images"
   ]
  },
  {
   "cell_type": "code",
   "execution_count": 2,
   "id": "bd8c9eda",
   "metadata": {},
   "outputs": [
    {
     "data": {
      "text/plain": [
       "'C:\\\\Users\\\\Admin'"
      ]
     },
     "execution_count": 2,
     "metadata": {},
     "output_type": "execute_result"
    }
   ],
   "source": [
    "pwd"
   ]
  },
  {
   "cell_type": "code",
   "execution_count": 3,
   "id": "e1a0a05c",
   "metadata": {},
   "outputs": [
    {
     "name": "stdout",
     "output_type": "stream",
     "text": [
      "WARNING: No faces found in b-o-b_002.jpg. Ignoring file.\n",
      "WARNING: No faces found in Gnash_001.jpg. Ignoring file.\n",
      "WARNING: No faces found in tervor_daniel_002.jpg. Ignoring file.\n"
     ]
    }
   ],
   "source": [
    "def read_img(path):\n",
    "   img = cv2.imread(path)\n",
    "   (h, w) = img.shape[:2]\n",
    "   width = 400\n",
    "   ratio = width / float(w)\n",
    "   height = int(h * ratio)\n",
    "   return cv2.resize(img, (width, height))\n",
    "\n",
    "face_enc = []\n",
    "dataset_names = []\n",
    "dataset_encodings = []\n",
    "dataset_dir = 'dataset'\n",
    "\n",
    "for file in os.listdir(dataset_dir):\n",
    "    img = read_img(dataset_dir + '/' + file)\n",
    "    img_enc = face_recognition.face_encodings(img)\n",
    "    if len(img_enc) == 0:\n",
    "        print(\"WARNING: No faces found in {}. Ignoring file.\".format(file))\n",
    "    else:\n",
    "        face_enc.append(img_enc)\n",
    "        dataset_names.append(file.split('.')[0])\n",
    "        \n",
    "for i in range(0,len(face_enc)):\n",
    "    dataset_encodings.append(face_enc[i][0])"
   ]
  },
  {
   "cell_type": "markdown",
   "id": "5e8ebc0c",
   "metadata": {},
   "source": [
    "### Webcam"
   ]
  },
  {
   "cell_type": "code",
   "execution_count": 4,
   "id": "02e0593c",
   "metadata": {},
   "outputs": [],
   "source": [
    "video_capture = cv2.VideoCapture(0)\n",
    "\n",
    "while True:\n",
    "    ret, frame = video_capture.read()\n",
    "    rgb_frame = frame[:, :, ::-1]\n",
    "\n",
    "    face_locations = face_recognition.face_locations(rgb_frame)\n",
    "    face_encodings = face_recognition.face_encodings(rgb_frame, face_locations)\n",
    "\n",
    "    for (top, right, bottom, left), face_encoding in zip(face_locations, face_encodings):\n",
    "        matches = face_recognition.compare_faces(dataset_encodings, face_encoding, 0.5)\n",
    "\n",
    "        name = \"Unknown\"\n",
    "\n",
    "        if True in matches:\n",
    "             first_match_index = matches.index(True)\n",
    "             name = dataset_names[first_match_index]\n",
    "        \n",
    "        \n",
    "        #face_distances = face_recognition.face_distance(dataset_encodings, face_encoding)\n",
    "        #best_match_index = np.argmin(face_distances)\n",
    "         \n",
    "        #if matches[best_match_index]:\n",
    "         #   name = dataset_names[best_match_index]\n",
    "        \n",
    "        \n",
    "        cv2.rectangle(frame, (left, top), (right, bottom), (0, 0, 255), 2)\n",
    "\n",
    "        cv2.rectangle(frame, (left, bottom - 35), (right, bottom), (0, 0, 255), cv2.FILLED)\n",
    "        font = cv2.FONT_HERSHEY_DUPLEX\n",
    "        cv2.putText(frame, name, (left + 6, bottom - 6), font, 1.0, (255, 255, 255), 1)\n",
    "\n",
    "    cv2.imshow('Video', frame)\n",
    "\n",
    "    if cv2.waitKey(1) & 0xFF == ord('q'):\n",
    "        break\n",
    "\n",
    "video_capture.release()\n",
    "cv2.destroyAllWindows()"
   ]
  },
  {
   "cell_type": "code",
   "execution_count": 5,
   "id": "986c89c9",
   "metadata": {
    "scrolled": true
   },
   "outputs": [
    {
     "data": {
      "text/plain": [
       "['Alec_benjamin_001',\n",
       " 'Alec_benjamin_002',\n",
       " 'alessia-cara_001',\n",
       " 'alessia-cara_002',\n",
       " 'Ali_gatie_001',\n",
       " 'Ali_gatie_002',\n",
       " 'Andrew_taggart_001',\n",
       " 'Andrew_taggart_002',\n",
       " 'Austin_mahone001',\n",
       " 'Austin_mahone002',\n",
       " 'b-o-b_001',\n",
       " 'Billie-Eilish_001',\n",
       " 'Billie-Eilish_002',\n",
       " 'Billie-Joe-Armstrong_001',\n",
       " 'Billie-Joe-Armstrong_002',\n",
       " 'Bob_marley_001',\n",
       " 'Bob_marley_002',\n",
       " 'Bruno_mars_001',\n",
       " 'Bruno_mars_002',\n",
       " 'charlie_puth_001',\n",
       " 'charlie_puth_002',\n",
       " 'chester_001',\n",
       " 'chester_002',\n",
       " 'Chrissy_Costanza_001',\n",
       " 'Chrissy_Costanza_002',\n",
       " 'Dj_khaled_001',\n",
       " 'Dj_khaled_002',\n",
       " 'dr-disrespect_001',\n",
       " 'dr-disrespect_002',\n",
       " 'Durjoy',\n",
       " 'ed_001',\n",
       " 'ed_002',\n",
       " 'Eminem_001',\n",
       " 'Eminem_002',\n",
       " 'Enrique_iglesias_001',\n",
       " 'Enrique_iglesias_002',\n",
       " 'Gnash_002',\n",
       " 'halsey_001',\n",
       " 'halsey_002',\n",
       " 'Harry_style_001',\n",
       " 'Harry_style_002',\n",
       " 'Iann_dior_001',\n",
       " 'Iann_dior_002',\n",
       " 'james-arthur_001',\n",
       " 'james-arthur_002',\n",
       " 'john_legend_001',\n",
       " 'john_legend_002',\n",
       " 'juice-wrld_001',\n",
       " 'juice-wrld_002',\n",
       " 'justin_bieber001',\n",
       " 'justin_bieber002',\n",
       " 'Khalid_001',\n",
       " 'Khalid_002',\n",
       " 'Lionel_Richie_001',\n",
       " 'Lionel_Richie_002',\n",
       " 'Louis_Tomlinson_001',\n",
       " 'Louis_Tomlinson_002',\n",
       " 'martin-garrix_001',\n",
       " 'martin-garrix_002',\n",
       " 'MGK_001',\n",
       " 'MGK_002',\n",
       " 'Michael-Jackson_001',\n",
       " 'Michael-Jackson_002',\n",
       " 'Naill_001',\n",
       " 'Naill_002',\n",
       " 'ninja_001',\n",
       " 'ninja_002',\n",
       " 'Passenger_001',\n",
       " 'Passenger_002',\n",
       " 'pewsiepie_001',\n",
       " 'pewsiepie_002',\n",
       " 'Post_malone_001',\n",
       " 'Post_malone_002',\n",
       " 'Rami_malek_001',\n",
       " 'Rami_malek_002',\n",
       " 'Rihanna_001',\n",
       " 'Rihanna_002',\n",
       " 'sean-paul_001',\n",
       " 'sean-paul_002',\n",
       " 'sean_kingston_001',\n",
       " 'sean_kingston_002',\n",
       " 'Selena_gomez_001',\n",
       " 'Selena_gomez_002',\n",
       " 'Shawn-Mendes_001',\n",
       " 'Shawn-Mendes_002',\n",
       " 'Shroud_001',\n",
       " 'Shroud_002',\n",
       " 'Taylor_swift_001',\n",
       " 'Taylor_swift_002',\n",
       " 'tervor_daniel_001',\n",
       " 'The_weeknd_001',\n",
       " 'The_weeknd_002',\n",
       " 'Tom_Ellis_001',\n",
       " 'Tom_Ellis_002',\n",
       " 'XXXTENTACION001',\n",
       " 'XXXTENTACION002',\n",
       " 'Zayn-Malik_001',\n",
       " 'Zayn-Malik_002']"
      ]
     },
     "execution_count": 5,
     "metadata": {},
     "output_type": "execute_result"
    }
   ],
   "source": [
    "dataset_names"
   ]
  },
  {
   "cell_type": "code",
   "execution_count": 1,
   "id": "fa76b136",
   "metadata": {},
   "outputs": [
    {
     "name": "stderr",
     "output_type": "stream",
     "text": [
      "Cloning into 'content'...\n",
      "warning: --local is ignored\n",
      "warning: You appear to have cloned an empty repository.\n"
     ]
    }
   ],
   "source": [
    "!git clone -l -s https://github.com/alimozzamandurjoy/face-recognition-1.git content"
   ]
  },
  {
   "cell_type": "code",
   "execution_count": 2,
   "id": "3afca1b1",
   "metadata": {},
   "outputs": [
    {
     "data": {
      "text/plain": [
       "'C:\\\\Users\\\\Admin'"
      ]
     },
     "execution_count": 2,
     "metadata": {},
     "output_type": "execute_result"
    }
   ],
   "source": [
    "pwd"
   ]
  },
  {
   "cell_type": "code",
   "execution_count": 4,
   "id": "e043dcb1",
   "metadata": {},
   "outputs": [
    {
     "ename": "SyntaxError",
     "evalue": "invalid syntax (<ipython-input-4-f188d5ac1197>, line 1)",
     "output_type": "error",
     "traceback": [
      "\u001b[1;36m  File \u001b[1;32m\"<ipython-input-4-f188d5ac1197>\"\u001b[1;36m, line \u001b[1;32m1\u001b[0m\n\u001b[1;33m    git init\u001b[0m\n\u001b[1;37m           ^\u001b[0m\n\u001b[1;31mSyntaxError\u001b[0m\u001b[1;31m:\u001b[0m invalid syntax\n"
     ]
    }
   ],
   "source": [
    "\n"
   ]
  },
  {
   "cell_type": "code",
   "execution_count": null,
   "id": "062cda97",
   "metadata": {},
   "outputs": [],
   "source": []
  }
 ],
 "metadata": {
  "kernelspec": {
   "display_name": "Python 3",
   "language": "python",
   "name": "python3"
  },
  "language_info": {
   "codemirror_mode": {
    "name": "ipython",
    "version": 3
   },
   "file_extension": ".py",
   "mimetype": "text/x-python",
   "name": "python",
   "nbconvert_exporter": "python",
   "pygments_lexer": "ipython3",
   "version": "3.7.0"
  }
 },
 "nbformat": 4,
 "nbformat_minor": 5
}
