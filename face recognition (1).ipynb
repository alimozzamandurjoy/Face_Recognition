{
 "cells": [
  {
   "cell_type": "markdown",
   "id": "6dab4d6e",
   "metadata": {},
   "source": [
    "### Installing dependencies "
   ]
  },
  {
   "cell_type": "code",
   "execution_count": 1,
   "id": "2be74bab",
   "metadata": {},
   "outputs": [],
   "source": [
    "import numpy as np\n",
    "import cv2\n",
    "import face_recognition\n",
    "import os"
   ]
  },
  {
   "cell_type": "markdown",
   "id": "b35f2a07",
   "metadata": {},
   "source": [
    "### Reading data set images"
   ]
  },
  {
   "cell_type": "code",
   "execution_count": 2,
   "id": "bd8c9eda",
   "metadata": {},
   "outputs": [
    {
     "data": {
      "text/plain": [
       "'C:\\\\Users\\\\Admin'"
      ]
     },
     "execution_count": 2,
     "metadata": {},
     "output_type": "execute_result"
    }
   ],
   "source": [
    "pwd"
   ]
  },
  {
   "cell_type": "code",
   "execution_count": null,
   "id": "e1a0a05c",
   "metadata": {},
   "outputs": [
    {
     "name": "stdout",
     "output_type": "stream",
     "text": [
      "WARNING: No faces found in b-o-b_002.jpg. Ignoring file.\n"
     ]
    }
   ],
   "source": [
    "def read_img(path):\n",
    "   img = cv2.imread(path)\n",
    "   (h, w) = img.shape[:2]\n",
    "   width = 400\n",
    "   ratio = width / float(w)\n",
    "   height = int(h * ratio)\n",
    "   return cv2.resize(img, (width, height))\n",
    "\n",
    "face_enc = []\n",
    "dataset_names = []\n",
    "dataset_encodings = []\n",
    "dataset_dir = 'dataset'\n",
    "\n",
    "for file in os.listdir(dataset_dir):\n",
    "    img = read_img(dataset_dir + '/' + file)\n",
    "    img_enc = face_recognition.face_encodings(img)\n",
    "    if len(img_enc) == 0:\n",
    "        print(\"WARNING: No faces found in {}. Ignoring file.\".format(file))\n",
    "    else:\n",
    "        face_enc.append(img_enc)\n",
    "        dataset_names.append(file.split('.')[0])\n",
    "        \n",
    "for i in range(0,len(face_enc)):\n",
    "    dataset_encodings.append(face_enc[i][0])"
   ]
  },
  {
   "cell_type": "markdown",
   "id": "5e8ebc0c",
   "metadata": {},
   "source": [
    "### Webcam"
   ]
  },
  {
   "cell_type": "code",
   "execution_count": null,
   "id": "02e0593c",
   "metadata": {},
   "outputs": [],
   "source": [
    "video_capture = cv2.VideoCapture(0)\n",
    "\n",
    "while True:\n",
    "    ret, frame = video_capture.read()\n",
    "    rgb_frame = frame[:, :, ::-1]\n",
    "\n",
    "    face_locations = face_recognition.face_locations(rgb_frame)\n",
    "    face_encodings = face_recognition.face_encodings(rgb_frame, face_locations)\n",
    "\n",
    "    for (top, right, bottom, left), face_encoding in zip(face_locations, face_encodings):\n",
    "        matches = face_recognition.compare_faces(dataset_encodings, face_encoding, 0.5)\n",
    "\n",
    "        name = \"Unknown\"\n",
    "\n",
    "        if True in matches:\n",
    "             first_match_index = matches.index(True)\n",
    "             name = dataset_names[first_match_index]\n",
    "        \n",
    "        \n",
    "        #face_distances = face_recognition.face_distance(dataset_encodings, face_encoding)\n",
    "        #best_match_index = np.argmin(face_distances)\n",
    "         \n",
    "        #if matches[best_match_index]:\n",
    "         #   name = dataset_names[best_match_index]\n",
    "        \n",
    "        \n",
    "        cv2.rectangle(frame, (left, top), (right, bottom), (0, 0, 255), 2)\n",
    "\n",
    "        cv2.rectangle(frame, (left, bottom - 35), (right, bottom), (0, 0, 255), cv2.FILLED)\n",
    "        font = cv2.FONT_HERSHEY_DUPLEX\n",
    "        cv2.putText(frame, name, (left + 6, bottom - 6), font, 1.0, (255, 255, 255), 1)\n",
    "\n",
    "    cv2.imshow('Video', frame)\n",
    "\n",
    "    if cv2.waitKey(1) & 0xFF == ord('q'):\n",
    "        break\n",
    "\n",
    "video_capture.release()\n",
    "cv2.destroyAllWindows()"
   ]
  },
  {
   "cell_type": "code",
   "execution_count": null,
   "id": "986c89c9",
   "metadata": {
    "scrolled": true
   },
   "outputs": [],
   "source": [
    "dataset_names"
   ]
  }
 ],
 "metadata": {
  "kernelspec": {
   "display_name": "Python 3",
   "language": "python",
   "name": "python3"
  },
  "language_info": {
   "codemirror_mode": {
    "name": "ipython",
    "version": 3
   },
   "file_extension": ".py",
   "mimetype": "text/x-python",
   "name": "python",
   "nbconvert_exporter": "python",
   "pygments_lexer": "ipython3",
   "version": "3.7.0"
  }
 },
 "nbformat": 4,
 "nbformat_minor": 5
}
